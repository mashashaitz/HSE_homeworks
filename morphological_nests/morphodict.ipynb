{
 "cells": [
  {
   "cell_type": "code",
   "execution_count": 201,
   "metadata": {},
   "outputs": [],
   "source": [
    "import re\n",
    "import urllib.request\n",
    "import json\n",
    "from pymystem3 import Mystem\n",
    "m = Mystem()"
   ]
  },
  {
   "cell_type": "code",
   "execution_count": 202,
   "metadata": {},
   "outputs": [],
   "source": [
    "def if_url_works(word):\n",
    "    codes = ['a 42 520', 'b 1 654', 'c 2 471', 'd 19 571', 'e 1 554', 'f 11 50', 'h 11 103', 'i 1 236',\n",
    "             'j 14 298', 'l 13 992', '3 1 245', 'm 5 383', 'n 3 709', 'o 1 299', 'p 2 488', 'q 186 999',\n",
    "             '4 5 554', 'r 2 511', 's 13 990', '2 5 157', 't 6 686', 'u 6 212', 'v 3 388', 'x 31 211',\n",
    "             'w 13 100', 'y 8 188', 'z 8 333', '1 11 31', '5 37 256', '6 4 19', '7 1 76']\n",
    "    log = ''\n",
    "    \n",
    "    \n",
    "    for code in codes:\n",
    "        l = code.split()[0]\n",
    "        n1 = int(code.split()[1])\n",
    "        n2 = int(code.split()[2])\n",
    "        while n1 <= n2:\n",
    "            try:\n",
    "                #time.sleep(2)\n",
    "                page = urllib.request.urlopen('http://old.kpfu.ru/infres/slovar1/gn.php?' + word + '&' + l + str(n1) + '.gn&1#1')\n",
    "                page_read = page.read().decode('cp1251')\n",
    "                if 'Failed opening file' in page_read:\n",
    "                    log += 'nf:' + word + '&' + l + str(n1) + '\\n'\n",
    "                else:\n",
    "                    log += 'good:' + word + '&' + l + str(n1) + '\\n'\n",
    "                    print('http://old.kpfu.ru/infres/slovar1/gn.php?' + word + '&' + l + str(n1) + '.gn&1#1')\n",
    "                n1 += 1\n",
    "            except Exception:\n",
    "                log += 'nsfw:' + word + '&' + l + str(n1) + '\\n'\n",
    "                n1 += 1\n",
    "                \n",
    "                \n",
    "    return log"
   ]
  },
  {
   "cell_type": "code",
   "execution_count": 203,
   "metadata": {},
   "outputs": [],
   "source": [
    "def word2url(word):\n",
    "    new_word = word\n",
    "    num_let = ['а %E0', 'б %E1', 'в %E2', 'г %E3', 'д %E4', 'е %E5', 'ж %E6', 'з %E7', 'и %E8', 'й %E9', 'к %EA', 'л %EB',\n",
    "               'м %EC', 'н %ED', 'о %EE', 'п %EF', 'р %F0', 'с %F1', 'т %F2', 'у %F3', 'ф %F4', 'х %F5', 'ц %F6', 'ч %F7',\n",
    "               'ш %F8', 'щ %F8', 'ь %FC', 'ы %FB', 'э %FD', 'ю %FE', 'я %FF', 'IV @IV', 'I @I', '@I@I@I @III', '@I@I @II']\n",
    "    for two in num_let:\n",
    "        new_word = new_word.replace(two.split()[0], two.split()[-1])\n",
    "    new_word = new_word.replace('\\n', '')\n",
    "    new_word = new_word.replace(' ', '')\n",
    "    return new_word"
   ]
  },
  {
   "cell_type": "code",
   "execution_count": 204,
   "metadata": {},
   "outputs": [],
   "source": [
    "def find_urls():\n",
    "    words = []\n",
    "\n",
    "    with open('words.txt', 'r', encoding='utf-8') as f:\n",
    "        for line in f:\n",
    "            words.append(line)\n",
    "    return words"
   ]
  },
  {
   "cell_type": "code",
   "execution_count": 205,
   "metadata": {},
   "outputs": [],
   "source": [
    "def root2rt(root):\n",
    "    rt = root.replace('\\n', '')\n",
    "    rt = rt.replace('j', '')\n",
    "    rt = rt.replace('I', '').replace('1', '').replace('2', '').replace('3', '')\n",
    "    rt = rt.replace('<i>', '').replace('</i>', '')\n",
    "    rt = rt.replace('(', '').replace(')', '')\n",
    "    if ' ' in rt:\n",
    "        rt = re.split(' ', rt)[0]\n",
    "    elif '/' in rt:\n",
    "        rt = re.split('/', rt)[-1]\n",
    "    return rt"
   ]
  },
  {
   "cell_type": "code",
   "execution_count": 206,
   "metadata": {},
   "outputs": [],
   "source": [
    "def read_link(link, idshnik):\n",
    "    page = urllib.request.urlopen(link)\n",
    "    page_read = page.read().decode('cp1251')\n",
    "    depth = 0\n",
    "    nods = []\n",
    "    last_words = []\n",
    "    for line in page_read.splitlines():\n",
    "        if 'Гнездо для слова' in line:\n",
    "            depth = 0\n",
    "            \n",
    "            re_word = '(<FONT COLOR=#FF0000><b>)(.*?)(</b></FONT>)'\n",
    "            word = re.findall(re_word, line)[0][1].replace('\\'', '')\n",
    "            if '</FONT>(' in line:\n",
    "                re_end = '\\(.*?\\)'\n",
    "                ending = re.findall(re_end, line)[-1].replace('(', '').replace(')', '')\n",
    "                word += ending\n",
    "            word = word.replace('<i>', '').replace('</i>', '')\n",
    "            word = word.replace('(и', '(ия)')\n",
    "            word = word.replace('\\'', '')\n",
    "            if word not in '     /n/t':\n",
    "                nod = {'root': word, 'mettype': 'else', 'met': 'none',\n",
    "                       'ambiguous': [], 'non-ambiguous': [], 'depth': 0,\n",
    "                       'id': idshnik, 'PoS': m.analyze(root2rt(word))[0]['analysis'][0]['gr'].split('=')[0].split(',')[0]}\n",
    "                idshnik += 1\n",
    "                last_words.append(word)\n",
    "                nods.append(nod)\n",
    "\n",
    "\n",
    "        elif re.search('[А-Яа-яЁё]', line):\n",
    "            for each in re.findall('<ul>', line):\n",
    "                depth += 1\n",
    "            for each in re.findall('</ul>', line):\n",
    "                depth -= 1\n",
    "\n",
    "            re_word2 = '[-\\'()А-Яа-яЁёIV12345\\[j]+' \n",
    "            word2 = ''\n",
    "\n",
    "            for part in re.findall(re_word2, line):\n",
    "                if part == 'См' or part == 'сущ':\n",
    "                    break\n",
    "                elif 'нескл' in part or 'ср' in part or 'прич' in part or 'прил' in part or 'нареч' in part:\n",
    "                    break\n",
    "                elif 'I' in part or 'V' in part or '1' in part or '2' in part or '3' in part or '4' in part or '5' in part:\n",
    "                    word2 += ' ' + part\n",
    "                    break\n",
    "                elif '\\[' in part:\n",
    "                    word2 = ''.join(part[1:-1])\n",
    "                else:\n",
    "                    word2 += part\n",
    "\n",
    "            word2 = word2.replace('-', '')\n",
    "            word2 = word2.replace(')', '')\n",
    "            word2 = word2.replace('(', '')\n",
    "            word2 = word2.replace('\\'', '')\n",
    "            word2 = word2.replace('0', '')\n",
    "            word2 = word2.replace('[', '/')\n",
    "            \n",
    "            word2 = word2.replace('поjоный', 'поеный')\n",
    "            word2 = word2.replace('солоный', 'соленый')\n",
    "            word2 = word2.replace('жы', 'жи')\n",
    "            word2 = word2.replace('шы', 'ши')\n",
    "\n",
    "            t = True\n",
    "            for n in nods:\n",
    "                if n['root'] == ['word2']:\n",
    "                    nod2 = n\n",
    "                    print(n['root'])\n",
    "                    t = False\n",
    "                    \n",
    "            mettype2 = 'else'\n",
    "            met2 = 'none'\n",
    "\n",
    "            \n",
    "            if word2 not in '     /n/t':\n",
    "                if t and 'любый' not in word2:\n",
    "                    nod2 = {'root': word2, 'mettype': mettype2, 'met': met2,\n",
    "                            'ambiguous': [], 'non-ambiguous': [], 'depth': 0,\n",
    "                            'id': idshnik, 'PoS': m.analyze(root2rt(word2))[0]['analysis'][0]['gr'].split('=')[0].split(',')[0]}\n",
    "                    idshnik += 1\n",
    "                elif t:\n",
    "                    nod2 = {'root': word2, 'mettype': mettype2, 'met': met2,\n",
    "                            'ambiguous': [], 'non-ambiguous': [], 'depth': 0,\n",
    "                            'id': idshnik, 'PoS': 'A'}\n",
    "\n",
    "\n",
    "                if '<FONT COLOR=#FF0000><b>' not in line:\n",
    "                    mettype2 = 'else'\n",
    "                    met2 = 'none'\n",
    "\n",
    "                else:\n",
    "                    met2 = re.search('<FONT COLOR=#FF0000><b>(.*?)<', line).group(1)\n",
    "                    if word2.endswith(met2):\n",
    "                        mettype2 = 'suf'\n",
    "                    elif word2.startswith(met2):\n",
    "                        mettype2 = 'pref'\n",
    "                    else:\n",
    "                        mettype2 = 'else'\n",
    "                    for e in endings:\n",
    "                        if word2.endswith(met2+e):\n",
    "                            mettype2 = 'suf'\n",
    "\n",
    "                if nod2['depth'] == 0:\n",
    "                    nod2['mettype'] = mettype2\n",
    "                    nod2['met'] = met2\n",
    "                    nod2['depth'] = depth\n",
    "                    nod2['id'] = idshnik\n",
    "                    idshnik += 1\n",
    "\n",
    "                nods.append(nod2)\n",
    "\n",
    "                if len(last_words) <= depth:\n",
    "                    last_words.append(word2)\n",
    "                elif depth < 0:\n",
    "                    print(word2, line)\n",
    "                else:\n",
    "                    last_words[depth] = word2\n",
    "\n",
    "                if ',,1' in line or ',,2' in line:\n",
    "                    for n in nods:\n",
    "                        if depth > 0:\n",
    "                            if n['root'] == last_words[depth-1]:\n",
    "                                n['ambiguous'].append(word2)         \n",
    "                else:\n",
    "                    for n in nods:\n",
    "                        if depth > 0:\n",
    "                            if n['root'] == last_words[depth-1]:\n",
    "                                n['non-ambiguous'].append(word2)\n",
    "                            \n",
    "    return(nods, idshnik)"
   ]
  },
  {
   "cell_type": "code",
   "execution_count": 207,
   "metadata": {},
   "outputs": [
    {
     "name": "stdout",
     "output_type": "stream",
     "text": [
      "([{'root': 'береза', 'mettype': 'else', 'met': 'none', 'ambiguous': [], 'non-ambiguous': ['березка', 'березонька', 'березина', 'березник', 'березняк', 'березовик', 'березовый', 'подберезовик', 'подберезник'], 'depth': 0, 'id': 0, 'PoS': 'S'}, {'root': 'березка', 'mettype': 'suf', 'met': 'к', 'ambiguous': [], 'non-ambiguous': [], 'depth': 1, 'id': 2, 'PoS': 'S'}, {'root': 'березонька', 'mettype': 'suf', 'met': 'оньк', 'ambiguous': [], 'non-ambiguous': [], 'depth': 1, 'id': 4, 'PoS': 'S'}, {'root': 'березина', 'mettype': 'suf', 'met': 'ин', 'ambiguous': [], 'non-ambiguous': [], 'depth': 1, 'id': 6, 'PoS': 'S'}, {'root': 'березник', 'mettype': 'suf', 'met': 'ник', 'ambiguous': [], 'non-ambiguous': [], 'depth': 1, 'id': 8, 'PoS': 'S'}, {'root': 'березняк', 'mettype': 'else', 'met': \"ня'к\", 'ambiguous': [], 'non-ambiguous': [], 'depth': 1, 'id': 10, 'PoS': 'S'}, {'root': 'березовик', 'mettype': 'suf', 'met': 'овик', 'ambiguous': [], 'non-ambiguous': [], 'depth': 1, 'id': 12, 'PoS': 'S'}, {'root': 'березовый', 'mettype': 'suf', 'met': 'ов', 'ambiguous': [], 'non-ambiguous': ['березовица', 'березовка'], 'depth': 1, 'id': 14, 'PoS': 'A'}, {'root': 'березовица', 'mettype': 'suf', 'met': 'иц', 'ambiguous': [], 'non-ambiguous': [], 'depth': 2, 'id': 16, 'PoS': 'S'}, {'root': 'березовка', 'mettype': 'suf', 'met': 'к', 'ambiguous': [], 'non-ambiguous': [], 'depth': 2, 'id': 18, 'PoS': 'S'}, {'root': 'подберезовик', 'mettype': 'pref', 'met': 'под', 'ambiguous': [], 'non-ambiguous': [], 'depth': 1, 'id': 20, 'PoS': 'S'}, {'root': 'подберезник', 'mettype': 'pref', 'met': 'под', 'ambiguous': [], 'non-ambiguous': [], 'depth': 1, 'id': 22, 'PoS': 'S'}], 23)\n"
     ]
    }
   ],
   "source": [
    "idshnik = 0\n",
    "endings = ['ий', 'ый', 'ой', 'ая', 'ое', 'ие', 'а', 'я', 'ы', 'и', 'е', 'у', 'ю', 'ть', 'ться', 'ся']\n",
    "links = []\n",
    "\n",
    "\n",
    "with open('links.txt', 'r', encoding='utf-8') as f:\n",
    "    for line in f:\n",
    "        links.append(line)\n",
    "            \n",
    "print(read_link('http://old.kpfu.ru/infres/slovar1/gn.php?%E0%E2%E3%F3%F1%F2&b227.gn&1#1', idshnik))"
   ]
  },
  {
   "cell_type": "code",
   "execution_count": 208,
   "metadata": {},
   "outputs": [],
   "source": [
    "idshnik = 0\n",
    "json_nests = []\n",
    "for l in links:    \n",
    "    nest, idshnik = read_link(l, idshnik)\n",
    "    if nest[0]['root'] not in json_nests:\n",
    "        json_nests.append({nest[0]['root']: nest})"
   ]
  },
  {
   "cell_type": "code",
   "execution_count": 200,
   "metadata": {},
   "outputs": [],
   "source": [
    "file_object = open('nests.json', 'w', encoding='utf-8')\n",
    "json.dump(json_nests, file_object, ensure_ascii=False)\n",
    "file_object.close()"
   ]
  },
  {
   "cell_type": "code",
   "execution_count": 209,
   "metadata": {},
   "outputs": [
    {
     "name": "stdout",
     "output_type": "stream",
     "text": [
      "1565\n",
      "148998\n"
     ]
    }
   ],
   "source": [
    "print(len(json_nests))\n",
    "print(idshnik)"
   ]
  },
  {
   "cell_type": "code",
   "execution_count": 210,
   "metadata": {},
   "outputs": [],
   "source": [
    "def nprint(nest, root):\n",
    "    trees ={}\n",
    "    nr = 0\n",
    "    for n in nest.values():\n",
    "        nroot = []\n",
    "        for l in n:\n",
    "            if (\n",
    "                root == l['root'] or\n",
    "                l['root'].startswith(root + ' ') or\n",
    "                l['root'].endswith('/' + root)\n",
    "                ):\n",
    "                trees[l['root']] = [l['root']]\n",
    "                \n",
    "        for r in trees:\n",
    "            ts = [r]\n",
    "            for l in n[::-1]:\n",
    "                for t in ts:\n",
    "                    if t in l['non-ambiguous'] or t in l['ambiguous']:\n",
    "                        ts.append(l['root'])\n",
    "            trees[r] = ts\n",
    "        \n",
    "        for r in trees:\n",
    "            ts = []\n",
    "            for l in n:\n",
    "                if l['root'] in ts or l['root'] == r: \n",
    "                    for na in l['non-ambiguous']:\n",
    "                        if na not in ts:\n",
    "                            ts.append(na)\n",
    "                    for a in l['ambiguous']:\n",
    "                        if a not in ts:\n",
    "                            ts.append(a)\n",
    "            trees[r].extend(ts)\n",
    "            \n",
    "        for r in trees:\n",
    "            for l in n:\n",
    "                if l['root'] in trees[r]:\n",
    "                    string = ''\n",
    "                    for d in range(l['depth']):\n",
    "                        string += '\\t'\n",
    "                    string += l['root']\n",
    "                    print(string)"
   ]
  },
  {
   "cell_type": "code",
   "execution_count": 215,
   "metadata": {},
   "outputs": [
    {
     "name": "stdout",
     "output_type": "stream",
     "text": [
      "вынуть\n",
      "\tвынуться\n",
      "\t\tвыниматься 1\n",
      "\tвынимать\n",
      "\t\tвыниматься 2\n",
      "\t\tвыниманиjе/вынимание\n",
      "\t\tповынимать\n",
      "\tвыем\n",
      "\t\tвыемка\n",
      "\t\t\tвыемочный\n",
      "\t\t\tвыемчатый 1\n",
      "\t\tвыемщик\n",
      "\t\tвыемный\n",
      "\t\tвыемной\n",
      "\t\tвыемный\n",
      "\t\tвыемчатый 2\n",
      "\tповынуть\n"
     ]
    }
   ],
   "source": [
    "nprint(json_nests[163], 'вынуть')"
   ]
  },
  {
   "cell_type": "code",
   "execution_count": 214,
   "metadata": {},
   "outputs": [
    {
     "name": "stdout",
     "output_type": "stream",
     "text": [
      "{'вынуть': [{'root': 'вынуть', 'mettype': 'else', 'met': 'none', 'ambiguous': [], 'non-ambiguous': ['вынуться', 'вынимать', 'выем', 'повынуть'], 'depth': 0, 'id': 16407, 'PoS': 'V'}, {'root': 'вынуться', 'mettype': 'suf', 'met': 'ся', 'ambiguous': ['выниматься 1'], 'non-ambiguous': [], 'depth': 1, 'id': 16409, 'PoS': 'V'}, {'root': 'выниматься 1', 'mettype': 'else', 'met': \"а'\", 'ambiguous': [], 'non-ambiguous': [], 'depth': 2, 'id': 16411, 'PoS': 'V'}, {'root': 'вынимать', 'mettype': 'else', 'met': \"а'\", 'ambiguous': ['выниматься 2'], 'non-ambiguous': ['выниманиjе/вынимание', 'повынимать'], 'depth': 1, 'id': 16413, 'PoS': 'V'}, {'root': 'выниматься 2', 'mettype': 'else', 'met': 'ся', 'ambiguous': [], 'non-ambiguous': [], 'depth': 2, 'id': 16415, 'PoS': 'V'}, {'root': 'выниманиjе/вынимание', 'mettype': 'else', 'met': 'ниj', 'ambiguous': [], 'non-ambiguous': [], 'depth': 2, 'id': 16417, 'PoS': 'S'}, {'root': 'повынимать', 'mettype': 'pref', 'met': 'по', 'ambiguous': [], 'non-ambiguous': [], 'depth': 2, 'id': 16419, 'PoS': 'V'}, {'root': 'выем', 'mettype': 'else', 'met': 'none', 'ambiguous': ['выемчатый 2'], 'non-ambiguous': ['выемка', 'выемщик', 'выемный', 'выемной', 'выемный'], 'depth': 1, 'id': 16421, 'PoS': 'S'}, {'root': 'выемка', 'mettype': 'suf', 'met': 'к', 'ambiguous': ['выемчатый 1'], 'non-ambiguous': ['выемочный'], 'depth': 2, 'id': 16423, 'PoS': 'S'}, {'root': 'выемочный', 'mettype': 'suf', 'met': 'н', 'ambiguous': [], 'non-ambiguous': [], 'depth': 3, 'id': 16425, 'PoS': 'A'}, {'root': 'выемчатый 1', 'mettype': 'else', 'met': 'ат', 'ambiguous': [], 'non-ambiguous': [], 'depth': 3, 'id': 16427, 'PoS': 'A'}, {'root': 'выемщик', 'mettype': 'suf', 'met': 'щик', 'ambiguous': [], 'non-ambiguous': [], 'depth': 2, 'id': 16429, 'PoS': 'S'}, {'root': 'выемный', 'mettype': 'suf', 'met': 'н', 'ambiguous': [], 'non-ambiguous': [], 'depth': 2, 'id': 16431, 'PoS': 'A'}, {'root': 'выемной', 'mettype': 'suf', 'met': 'н', 'ambiguous': [], 'non-ambiguous': [], 'depth': 2, 'id': 16433, 'PoS': 'S'}, {'root': 'выемный', 'mettype': 'suf', 'met': 'н', 'ambiguous': [], 'non-ambiguous': [], 'depth': 2, 'id': 16435, 'PoS': 'A'}, {'root': 'выемчатый 2', 'mettype': 'else', 'met': 'чат', 'ambiguous': [], 'non-ambiguous': [], 'depth': 2, 'id': 16437, 'PoS': 'A'}, {'root': 'повынуть', 'mettype': 'pref', 'met': 'по', 'ambiguous': [], 'non-ambiguous': [], 'depth': 1, 'id': 16439, 'PoS': 'V'}]}\n"
     ]
    }
   ],
   "source": [
    "print(json_nests[163])"
   ]
  },
  {
   "cell_type": "code",
   "execution_count": null,
   "metadata": {},
   "outputs": [],
   "source": []
  }
 ],
 "metadata": {
  "kernelspec": {
   "display_name": "Python 3",
   "language": "python",
   "name": "python3"
  },
  "language_info": {
   "codemirror_mode": {
    "name": "ipython",
    "version": 3
   },
   "file_extension": ".py",
   "mimetype": "text/x-python",
   "name": "python",
   "nbconvert_exporter": "python",
   "pygments_lexer": "ipython3",
   "version": "3.6.5"
  }
 },
 "nbformat": 4,
 "nbformat_minor": 2
}
